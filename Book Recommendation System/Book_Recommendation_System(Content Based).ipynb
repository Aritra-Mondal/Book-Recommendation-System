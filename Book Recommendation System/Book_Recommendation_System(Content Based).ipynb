{
 "cells": [
  {
   "cell_type": "code",
   "execution_count": 1,
   "metadata": {},
   "outputs": [],
   "source": [
    "from difflib import get_close_matches \n",
    "import pandas as pd\n",
    "from sklearn.metrics.pairwise import cosine_similarity\n",
    "from sklearn.feature_extraction.text import TfidfVectorizer"
   ]
  },
  {
   "cell_type": "markdown",
   "source": [
    "Importing Datasets"
   ],
   "metadata": {
    "collapsed": false,
    "pycharm": {
     "name": "#%% md\n"
    }
   }
  },
  {
   "cell_type": "code",
   "execution_count": 2,
   "metadata": {},
   "outputs": [
    {
     "data": {
      "text/plain": "   id  book_id  best_book_id  work_id  books_count       isbn        isbn13  \\\n0   1  2767052       2767052  2792775          272  439023483  9.780439e+12   \n1   2        3             3  4640799          491  439554934  9.780440e+12   \n2   3    41865         41865  3212258          226  316015849  9.780316e+12   \n3   4     2657          2657  3275794          487   61120081  9.780061e+12   \n4   5     4671          4671   245494         1356  743273567  9.780743e+12   \n\n                       authors  original_publication_year  \\\n0              Suzanne Collins                     2008.0   \n1  J.K. Rowling, Mary GrandPré                     1997.0   \n2              Stephenie Meyer                     2005.0   \n3                   Harper Lee                     1960.0   \n4          F. Scott Fitzgerald                     1925.0   \n\n                             original_title  ... ratings_count  \\\n0                          The Hunger Games  ...       4780653   \n1  Harry Potter and the Philosopher's Stone  ...       4602479   \n2                                  Twilight  ...       3866839   \n3                     To Kill a Mockingbird  ...       3198671   \n4                          The Great Gatsby  ...       2683664   \n\n  work_ratings_count  work_text_reviews_count  ratings_1  ratings_2  \\\n0            4942365                   155254      66715     127936   \n1            4800065                    75867      75504     101676   \n2            3916824                    95009     456191     436802   \n3            3340896                    72586      60427     117415   \n4            2773745                    51992      86236     197621   \n\n   ratings_3  ratings_4  ratings_5  \\\n0     560092    1481305    2706317   \n1     455024    1156318    3011543   \n2     793319     875073    1355439   \n3     446835    1001952    1714267   \n4     606158     936012     947718   \n\n                                           image_url  \\\n0  https://images.gr-assets.com/books/1447303603m...   \n1  https://images.gr-assets.com/books/1474154022m...   \n2  https://images.gr-assets.com/books/1361039443m...   \n3  https://images.gr-assets.com/books/1361975680m...   \n4  https://images.gr-assets.com/books/1490528560m...   \n\n                                     small_image_url  \n0  https://images.gr-assets.com/books/1447303603s...  \n1  https://images.gr-assets.com/books/1474154022s...  \n2  https://images.gr-assets.com/books/1361039443s...  \n3  https://images.gr-assets.com/books/1361975680s...  \n4  https://images.gr-assets.com/books/1490528560s...  \n\n[5 rows x 23 columns]",
      "text/html": "<div>\n<style scoped>\n    .dataframe tbody tr th:only-of-type {\n        vertical-align: middle;\n    }\n\n    .dataframe tbody tr th {\n        vertical-align: top;\n    }\n\n    .dataframe thead th {\n        text-align: right;\n    }\n</style>\n<table border=\"1\" class=\"dataframe\">\n  <thead>\n    <tr style=\"text-align: right;\">\n      <th></th>\n      <th>id</th>\n      <th>book_id</th>\n      <th>best_book_id</th>\n      <th>work_id</th>\n      <th>books_count</th>\n      <th>isbn</th>\n      <th>isbn13</th>\n      <th>authors</th>\n      <th>original_publication_year</th>\n      <th>original_title</th>\n      <th>...</th>\n      <th>ratings_count</th>\n      <th>work_ratings_count</th>\n      <th>work_text_reviews_count</th>\n      <th>ratings_1</th>\n      <th>ratings_2</th>\n      <th>ratings_3</th>\n      <th>ratings_4</th>\n      <th>ratings_5</th>\n      <th>image_url</th>\n      <th>small_image_url</th>\n    </tr>\n  </thead>\n  <tbody>\n    <tr>\n      <th>0</th>\n      <td>1</td>\n      <td>2767052</td>\n      <td>2767052</td>\n      <td>2792775</td>\n      <td>272</td>\n      <td>439023483</td>\n      <td>9.780439e+12</td>\n      <td>Suzanne Collins</td>\n      <td>2008.0</td>\n      <td>The Hunger Games</td>\n      <td>...</td>\n      <td>4780653</td>\n      <td>4942365</td>\n      <td>155254</td>\n      <td>66715</td>\n      <td>127936</td>\n      <td>560092</td>\n      <td>1481305</td>\n      <td>2706317</td>\n      <td>https://images.gr-assets.com/books/1447303603m...</td>\n      <td>https://images.gr-assets.com/books/1447303603s...</td>\n    </tr>\n    <tr>\n      <th>1</th>\n      <td>2</td>\n      <td>3</td>\n      <td>3</td>\n      <td>4640799</td>\n      <td>491</td>\n      <td>439554934</td>\n      <td>9.780440e+12</td>\n      <td>J.K. Rowling, Mary GrandPré</td>\n      <td>1997.0</td>\n      <td>Harry Potter and the Philosopher's Stone</td>\n      <td>...</td>\n      <td>4602479</td>\n      <td>4800065</td>\n      <td>75867</td>\n      <td>75504</td>\n      <td>101676</td>\n      <td>455024</td>\n      <td>1156318</td>\n      <td>3011543</td>\n      <td>https://images.gr-assets.com/books/1474154022m...</td>\n      <td>https://images.gr-assets.com/books/1474154022s...</td>\n    </tr>\n    <tr>\n      <th>2</th>\n      <td>3</td>\n      <td>41865</td>\n      <td>41865</td>\n      <td>3212258</td>\n      <td>226</td>\n      <td>316015849</td>\n      <td>9.780316e+12</td>\n      <td>Stephenie Meyer</td>\n      <td>2005.0</td>\n      <td>Twilight</td>\n      <td>...</td>\n      <td>3866839</td>\n      <td>3916824</td>\n      <td>95009</td>\n      <td>456191</td>\n      <td>436802</td>\n      <td>793319</td>\n      <td>875073</td>\n      <td>1355439</td>\n      <td>https://images.gr-assets.com/books/1361039443m...</td>\n      <td>https://images.gr-assets.com/books/1361039443s...</td>\n    </tr>\n    <tr>\n      <th>3</th>\n      <td>4</td>\n      <td>2657</td>\n      <td>2657</td>\n      <td>3275794</td>\n      <td>487</td>\n      <td>61120081</td>\n      <td>9.780061e+12</td>\n      <td>Harper Lee</td>\n      <td>1960.0</td>\n      <td>To Kill a Mockingbird</td>\n      <td>...</td>\n      <td>3198671</td>\n      <td>3340896</td>\n      <td>72586</td>\n      <td>60427</td>\n      <td>117415</td>\n      <td>446835</td>\n      <td>1001952</td>\n      <td>1714267</td>\n      <td>https://images.gr-assets.com/books/1361975680m...</td>\n      <td>https://images.gr-assets.com/books/1361975680s...</td>\n    </tr>\n    <tr>\n      <th>4</th>\n      <td>5</td>\n      <td>4671</td>\n      <td>4671</td>\n      <td>245494</td>\n      <td>1356</td>\n      <td>743273567</td>\n      <td>9.780743e+12</td>\n      <td>F. Scott Fitzgerald</td>\n      <td>1925.0</td>\n      <td>The Great Gatsby</td>\n      <td>...</td>\n      <td>2683664</td>\n      <td>2773745</td>\n      <td>51992</td>\n      <td>86236</td>\n      <td>197621</td>\n      <td>606158</td>\n      <td>936012</td>\n      <td>947718</td>\n      <td>https://images.gr-assets.com/books/1490528560m...</td>\n      <td>https://images.gr-assets.com/books/1490528560s...</td>\n    </tr>\n  </tbody>\n</table>\n<p>5 rows × 23 columns</p>\n</div>"
     },
     "execution_count": 2,
     "metadata": {},
     "output_type": "execute_result"
    }
   ],
   "source": [
    "book_data = pd.read_csv(\"books.csv\")\n",
    "book_data.head()"
   ]
  },
  {
   "cell_type": "code",
   "execution_count": 3,
   "metadata": {},
   "outputs": [
    {
     "data": {
      "text/plain": "   book_id  user_id  rating\n0        1      314       5\n1        1      439       3\n2        1      588       5\n3        1     1169       4\n4        1     1185       4",
      "text/html": "<div>\n<style scoped>\n    .dataframe tbody tr th:only-of-type {\n        vertical-align: middle;\n    }\n\n    .dataframe tbody tr th {\n        vertical-align: top;\n    }\n\n    .dataframe thead th {\n        text-align: right;\n    }\n</style>\n<table border=\"1\" class=\"dataframe\">\n  <thead>\n    <tr style=\"text-align: right;\">\n      <th></th>\n      <th>book_id</th>\n      <th>user_id</th>\n      <th>rating</th>\n    </tr>\n  </thead>\n  <tbody>\n    <tr>\n      <th>0</th>\n      <td>1</td>\n      <td>314</td>\n      <td>5</td>\n    </tr>\n    <tr>\n      <th>1</th>\n      <td>1</td>\n      <td>439</td>\n      <td>3</td>\n    </tr>\n    <tr>\n      <th>2</th>\n      <td>1</td>\n      <td>588</td>\n      <td>5</td>\n    </tr>\n    <tr>\n      <th>3</th>\n      <td>1</td>\n      <td>1169</td>\n      <td>4</td>\n    </tr>\n    <tr>\n      <th>4</th>\n      <td>1</td>\n      <td>1185</td>\n      <td>4</td>\n    </tr>\n  </tbody>\n</table>\n</div>"
     },
     "execution_count": 3,
     "metadata": {},
     "output_type": "execute_result"
    }
   ],
   "source": [
    "rating_data = pd.read_csv(\"ratings.csv\")\n",
    "rating_data.head()"
   ]
  },
  {
   "cell_type": "code",
   "execution_count": 4,
   "metadata": {},
   "outputs": [
    {
     "data": {
      "text/plain": "   goodreads_book_id  tag_id   count\n0                  1   30574  167697\n1                  1   11305   37174\n2                  1   11557   34173\n3                  1    8717   12986\n4                  1   33114   12716",
      "text/html": "<div>\n<style scoped>\n    .dataframe tbody tr th:only-of-type {\n        vertical-align: middle;\n    }\n\n    .dataframe tbody tr th {\n        vertical-align: top;\n    }\n\n    .dataframe thead th {\n        text-align: right;\n    }\n</style>\n<table border=\"1\" class=\"dataframe\">\n  <thead>\n    <tr style=\"text-align: right;\">\n      <th></th>\n      <th>goodreads_book_id</th>\n      <th>tag_id</th>\n      <th>count</th>\n    </tr>\n  </thead>\n  <tbody>\n    <tr>\n      <th>0</th>\n      <td>1</td>\n      <td>30574</td>\n      <td>167697</td>\n    </tr>\n    <tr>\n      <th>1</th>\n      <td>1</td>\n      <td>11305</td>\n      <td>37174</td>\n    </tr>\n    <tr>\n      <th>2</th>\n      <td>1</td>\n      <td>11557</td>\n      <td>34173</td>\n    </tr>\n    <tr>\n      <th>3</th>\n      <td>1</td>\n      <td>8717</td>\n      <td>12986</td>\n    </tr>\n    <tr>\n      <th>4</th>\n      <td>1</td>\n      <td>33114</td>\n      <td>12716</td>\n    </tr>\n  </tbody>\n</table>\n</div>"
     },
     "execution_count": 4,
     "metadata": {},
     "output_type": "execute_result"
    }
   ],
   "source": [
    "tag_data = pd.read_csv(\"book_tags.csv\")\n",
    "tag_data.head()"
   ]
  },
  {
   "cell_type": "code",
   "execution_count": 5,
   "metadata": {},
   "outputs": [
    {
     "data": {
      "text/plain": "       tag_id    tag_name\n34247   34247   Ｃhildrens\n34248   34248   Ｆａｖｏｒｉｔｅｓ\n34249   34249       Ｍａｎｇａ\n34250   34250      ＳＥＲＩＥＳ\n34251   34251  ｆａｖｏｕｒｉｔｅｓ",
      "text/html": "<div>\n<style scoped>\n    .dataframe tbody tr th:only-of-type {\n        vertical-align: middle;\n    }\n\n    .dataframe tbody tr th {\n        vertical-align: top;\n    }\n\n    .dataframe thead th {\n        text-align: right;\n    }\n</style>\n<table border=\"1\" class=\"dataframe\">\n  <thead>\n    <tr style=\"text-align: right;\">\n      <th></th>\n      <th>tag_id</th>\n      <th>tag_name</th>\n    </tr>\n  </thead>\n  <tbody>\n    <tr>\n      <th>34247</th>\n      <td>34247</td>\n      <td>Ｃhildrens</td>\n    </tr>\n    <tr>\n      <th>34248</th>\n      <td>34248</td>\n      <td>Ｆａｖｏｒｉｔｅｓ</td>\n    </tr>\n    <tr>\n      <th>34249</th>\n      <td>34249</td>\n      <td>Ｍａｎｇａ</td>\n    </tr>\n    <tr>\n      <th>34250</th>\n      <td>34250</td>\n      <td>ＳＥＲＩＥＳ</td>\n    </tr>\n    <tr>\n      <th>34251</th>\n      <td>34251</td>\n      <td>ｆａｖｏｕｒｉｔｅｓ</td>\n    </tr>\n  </tbody>\n</table>\n</div>"
     },
     "execution_count": 5,
     "metadata": {},
     "output_type": "execute_result"
    }
   ],
   "source": [
    "book_tags = pd.read_csv(\"tags.csv\")\n",
    "book_tags.head()\n",
    "book_tags.tail()"
   ]
  },
  {
   "cell_type": "markdown",
   "source": [
    "Drop Unnecessary Columns\n"
   ],
   "metadata": {
    "collapsed": false,
    "pycharm": {
     "name": "#%% md\n"
    }
   }
  },
  {
   "cell_type": "code",
   "execution_count": 6,
   "metadata": {},
   "outputs": [
    {
     "data": {
      "text/plain": "   book_id  books_count                      authors  \\\n0  2767052          272              Suzanne Collins   \n1        3          491  J.K. Rowling, Mary GrandPré   \n2    41865          226              Stephenie Meyer   \n3     2657          487                   Harper Lee   \n4     4671         1356          F. Scott Fitzgerald   \n\n   original_publication_year                            original_title  \\\n0                     2008.0                          The Hunger Games   \n1                     1997.0  Harry Potter and the Philosopher's Stone   \n2                     2005.0                                  Twilight   \n3                     1960.0                     To Kill a Mockingbird   \n4                     1925.0                          The Great Gatsby   \n\n  language_code  average_rating  ratings_count  \n0           eng            4.34        4780653  \n1           eng            4.44        4602479  \n2         en-US            3.57        3866839  \n3           eng            4.25        3198671  \n4           eng            3.89        2683664  ",
      "text/html": "<div>\n<style scoped>\n    .dataframe tbody tr th:only-of-type {\n        vertical-align: middle;\n    }\n\n    .dataframe tbody tr th {\n        vertical-align: top;\n    }\n\n    .dataframe thead th {\n        text-align: right;\n    }\n</style>\n<table border=\"1\" class=\"dataframe\">\n  <thead>\n    <tr style=\"text-align: right;\">\n      <th></th>\n      <th>book_id</th>\n      <th>books_count</th>\n      <th>authors</th>\n      <th>original_publication_year</th>\n      <th>original_title</th>\n      <th>language_code</th>\n      <th>average_rating</th>\n      <th>ratings_count</th>\n    </tr>\n  </thead>\n  <tbody>\n    <tr>\n      <th>0</th>\n      <td>2767052</td>\n      <td>272</td>\n      <td>Suzanne Collins</td>\n      <td>2008.0</td>\n      <td>The Hunger Games</td>\n      <td>eng</td>\n      <td>4.34</td>\n      <td>4780653</td>\n    </tr>\n    <tr>\n      <th>1</th>\n      <td>3</td>\n      <td>491</td>\n      <td>J.K. Rowling, Mary GrandPré</td>\n      <td>1997.0</td>\n      <td>Harry Potter and the Philosopher's Stone</td>\n      <td>eng</td>\n      <td>4.44</td>\n      <td>4602479</td>\n    </tr>\n    <tr>\n      <th>2</th>\n      <td>41865</td>\n      <td>226</td>\n      <td>Stephenie Meyer</td>\n      <td>2005.0</td>\n      <td>Twilight</td>\n      <td>en-US</td>\n      <td>3.57</td>\n      <td>3866839</td>\n    </tr>\n    <tr>\n      <th>3</th>\n      <td>2657</td>\n      <td>487</td>\n      <td>Harper Lee</td>\n      <td>1960.0</td>\n      <td>To Kill a Mockingbird</td>\n      <td>eng</td>\n      <td>4.25</td>\n      <td>3198671</td>\n    </tr>\n    <tr>\n      <th>4</th>\n      <td>4671</td>\n      <td>1356</td>\n      <td>F. Scott Fitzgerald</td>\n      <td>1925.0</td>\n      <td>The Great Gatsby</td>\n      <td>eng</td>\n      <td>3.89</td>\n      <td>2683664</td>\n    </tr>\n  </tbody>\n</table>\n</div>"
     },
     "execution_count": 6,
     "metadata": {},
     "output_type": "execute_result"
    }
   ],
   "source": [
    "book_data = book_data.drop(columns=['id', 'best_book_id', 'work_id', 'isbn', 'isbn13', 'title','work_ratings_count',\n",
    "                                   'work_text_reviews_count', 'ratings_1', 'ratings_2', 'ratings_3', 'ratings_4', 'ratings_5',\n",
    "                                    'image_url','small_image_url'], axis=1)\n",
    "book_data.head()"
   ]
  },
  {
   "cell_type": "markdown",
   "source": [
    "Remove Nan value and null value"
   ],
   "metadata": {
    "collapsed": false,
    "pycharm": {
     "name": "#%% md\n"
    }
   }
  },
  {
   "cell_type": "code",
   "execution_count": 7,
   "metadata": {},
   "outputs": [
    {
     "name": "stdout",
     "output_type": "stream",
     "text": [
      "book_id                         0\n",
      "books_count                     0\n",
      "authors                         0\n",
      "original_publication_year      21\n",
      "original_title                585\n",
      "language_code                1084\n",
      "average_rating                  0\n",
      "ratings_count                   0\n",
      "dtype: int64\n"
     ]
    }
   ],
   "source": [
    "print(book_data.isnull().sum())"
   ]
  },
  {
   "cell_type": "code",
   "execution_count": 8,
   "metadata": {},
   "outputs": [
    {
     "name": "stdout",
     "output_type": "stream",
     "text": [
      "<class 'pandas.core.frame.DataFrame'>\n",
      "Int64Index: 8405 entries, 0 to 9998\n",
      "Data columns (total 8 columns):\n",
      " #   Column                     Non-Null Count  Dtype  \n",
      "---  ------                     --------------  -----  \n",
      " 0   book_id                    8405 non-null   int64  \n",
      " 1   books_count                8405 non-null   int64  \n",
      " 2   authors                    8405 non-null   object \n",
      " 3   original_publication_year  8405 non-null   float64\n",
      " 4   original_title             8405 non-null   object \n",
      " 5   language_code              8405 non-null   object \n",
      " 6   average_rating             8405 non-null   float64\n",
      " 7   ratings_count              8405 non-null   int64  \n",
      "dtypes: float64(2), int64(3), object(3)\n",
      "memory usage: 591.0+ KB\n"
     ]
    }
   ],
   "source": [
    "book_data = book_data.dropna()\n",
    "book_data.info()"
   ]
  },
  {
   "cell_type": "code",
   "execution_count": 9,
   "metadata": {},
   "outputs": [
    {
     "name": "stdout",
     "output_type": "stream",
     "text": [
      "book_id                      0\n",
      "books_count                  0\n",
      "authors                      0\n",
      "original_publication_year    0\n",
      "original_title               0\n",
      "language_code                0\n",
      "average_rating               0\n",
      "ratings_count                0\n",
      "dtype: int64\n"
     ]
    }
   ],
   "source": [
    "print(book_data.isnull().sum())"
   ]
  },
  {
   "cell_type": "markdown",
   "source": [
    "Drop Duplicates"
   ],
   "metadata": {
    "collapsed": false,
    "pycharm": {
     "name": "#%% md\n"
    }
   }
  },
  {
   "cell_type": "code",
   "execution_count": 10,
   "metadata": {},
   "outputs": [
    {
     "data": {
      "text/plain": "        book_id  user_id  rating\n117889     1180        1       4\n488112     4893        1       3\n625717     6285        1       4\n796318     8034        2       4\n875008     8855        2       5",
      "text/html": "<div>\n<style scoped>\n    .dataframe tbody tr th:only-of-type {\n        vertical-align: middle;\n    }\n\n    .dataframe tbody tr th {\n        vertical-align: top;\n    }\n\n    .dataframe thead th {\n        text-align: right;\n    }\n</style>\n<table border=\"1\" class=\"dataframe\">\n  <thead>\n    <tr style=\"text-align: right;\">\n      <th></th>\n      <th>book_id</th>\n      <th>user_id</th>\n      <th>rating</th>\n    </tr>\n  </thead>\n  <tbody>\n    <tr>\n      <th>117889</th>\n      <td>1180</td>\n      <td>1</td>\n      <td>4</td>\n    </tr>\n    <tr>\n      <th>488112</th>\n      <td>4893</td>\n      <td>1</td>\n      <td>3</td>\n    </tr>\n    <tr>\n      <th>625717</th>\n      <td>6285</td>\n      <td>1</td>\n      <td>4</td>\n    </tr>\n    <tr>\n      <th>796318</th>\n      <td>8034</td>\n      <td>2</td>\n      <td>4</td>\n    </tr>\n    <tr>\n      <th>875008</th>\n      <td>8855</td>\n      <td>2</td>\n      <td>5</td>\n    </tr>\n  </tbody>\n</table>\n</div>"
     },
     "execution_count": 10,
     "metadata": {},
     "output_type": "execute_result"
    }
   ],
   "source": [
    "rating_data = rating_data.sort_values(\"user_id\")\n",
    "rating_data.drop_duplicates(subset =[\"user_id\",\"book_id\"], keep = False, inplace = True)\n",
    "rating_data.head()"
   ]
  },
  {
   "cell_type": "code",
   "execution_count": 11,
   "metadata": {},
   "outputs": [],
   "source": [
    "book_data.drop_duplicates(subset='original_title',keep=False,inplace=True)"
   ]
  },
  {
   "cell_type": "code",
   "execution_count": 12,
   "metadata": {},
   "outputs": [],
   "source": [
    "book_tags.drop_duplicates(subset='tag_id',keep=False,inplace=True)"
   ]
  },
  {
   "cell_type": "code",
   "execution_count": 13,
   "metadata": {},
   "outputs": [],
   "source": [
    "tag_data.drop_duplicates(subset=['tag_id','goodreads_book_id'],keep=False,inplace=True)"
   ]
  },
  {
   "cell_type": "markdown",
   "source": [
    "Content Based Recommendation"
   ],
   "metadata": {
    "collapsed": false,
    "pycharm": {
     "name": "#%% md\n"
    }
   }
  },
  {
   "cell_type": "code",
   "execution_count": 14,
   "metadata": {},
   "outputs": [],
   "source": [
    "book_data[\"Content\"] = book_data['original_title'] + ' ' + book_data['authors'] + ' ' + book_data['average_rating'].astype(str)"
   ]
  },
  {
   "cell_type": "code",
   "execution_count": 15,
   "metadata": {},
   "outputs": [
    {
     "data": {
      "text/plain": "   index   book_id  books_count                      authors  \\\n0      0   2767052          272              Suzanne Collins   \n1      1         3          491  J.K. Rowling, Mary GrandPré   \n2      3      2657          487                   Harper Lee   \n3      4      4671         1356          F. Scott Fitzgerald   \n4      5  11870085          226                   John Green   \n\n   original_publication_year                            original_title  \\\n0                     2008.0                          The Hunger Games   \n1                     1997.0  Harry Potter and the Philosopher's Stone   \n2                     1960.0                     To Kill a Mockingbird   \n3                     1925.0                          The Great Gatsby   \n4                     2012.0                    The Fault in Our Stars   \n\n  language_code  average_rating  ratings_count  \\\n0           eng            4.34        4780653   \n1           eng            4.44        4602479   \n2           eng            4.25        3198671   \n3           eng            3.89        2683664   \n4           eng            4.26        2346404   \n\n                                             Content  \n0              The Hunger Games Suzanne Collins 4.34  \n1  Harry Potter and the Philosopher's Stone J.K. ...  \n2              To Kill a Mockingbird Harper Lee 4.25  \n3          The Great Gatsby F. Scott Fitzgerald 3.89  \n4             The Fault in Our Stars John Green 4.26  ",
      "text/html": "<div>\n<style scoped>\n    .dataframe tbody tr th:only-of-type {\n        vertical-align: middle;\n    }\n\n    .dataframe tbody tr th {\n        vertical-align: top;\n    }\n\n    .dataframe thead th {\n        text-align: right;\n    }\n</style>\n<table border=\"1\" class=\"dataframe\">\n  <thead>\n    <tr style=\"text-align: right;\">\n      <th></th>\n      <th>index</th>\n      <th>book_id</th>\n      <th>books_count</th>\n      <th>authors</th>\n      <th>original_publication_year</th>\n      <th>original_title</th>\n      <th>language_code</th>\n      <th>average_rating</th>\n      <th>ratings_count</th>\n      <th>Content</th>\n    </tr>\n  </thead>\n  <tbody>\n    <tr>\n      <th>0</th>\n      <td>0</td>\n      <td>2767052</td>\n      <td>272</td>\n      <td>Suzanne Collins</td>\n      <td>2008.0</td>\n      <td>The Hunger Games</td>\n      <td>eng</td>\n      <td>4.34</td>\n      <td>4780653</td>\n      <td>The Hunger Games Suzanne Collins 4.34</td>\n    </tr>\n    <tr>\n      <th>1</th>\n      <td>1</td>\n      <td>3</td>\n      <td>491</td>\n      <td>J.K. Rowling, Mary GrandPré</td>\n      <td>1997.0</td>\n      <td>Harry Potter and the Philosopher's Stone</td>\n      <td>eng</td>\n      <td>4.44</td>\n      <td>4602479</td>\n      <td>Harry Potter and the Philosopher's Stone J.K. ...</td>\n    </tr>\n    <tr>\n      <th>2</th>\n      <td>3</td>\n      <td>2657</td>\n      <td>487</td>\n      <td>Harper Lee</td>\n      <td>1960.0</td>\n      <td>To Kill a Mockingbird</td>\n      <td>eng</td>\n      <td>4.25</td>\n      <td>3198671</td>\n      <td>To Kill a Mockingbird Harper Lee 4.25</td>\n    </tr>\n    <tr>\n      <th>3</th>\n      <td>4</td>\n      <td>4671</td>\n      <td>1356</td>\n      <td>F. Scott Fitzgerald</td>\n      <td>1925.0</td>\n      <td>The Great Gatsby</td>\n      <td>eng</td>\n      <td>3.89</td>\n      <td>2683664</td>\n      <td>The Great Gatsby F. Scott Fitzgerald 3.89</td>\n    </tr>\n    <tr>\n      <th>4</th>\n      <td>5</td>\n      <td>11870085</td>\n      <td>226</td>\n      <td>John Green</td>\n      <td>2012.0</td>\n      <td>The Fault in Our Stars</td>\n      <td>eng</td>\n      <td>4.26</td>\n      <td>2346404</td>\n      <td>The Fault in Our Stars John Green 4.26</td>\n    </tr>\n  </tbody>\n</table>\n</div>"
     },
     "execution_count": 15,
     "metadata": {},
     "output_type": "execute_result"
    }
   ],
   "source": [
    "book_data = book_data.reset_index()\n",
    "book_data.head()"
   ]
  },
  {
   "cell_type": "code",
   "execution_count": 16,
   "metadata": {},
   "outputs": [
    {
     "data": {
      "text/plain": "(8175, 13024)"
     },
     "execution_count": 16,
     "metadata": {},
     "output_type": "execute_result"
    }
   ],
   "source": [
    "tfidf = TfidfVectorizer(stop_words='english')\n",
    "tfidf_matrix = tfidf.fit_transform(book_data['Content'])\n",
    "tfidf_matrix.shape"
   ]
  },
  {
   "cell_type": "code",
   "execution_count": 17,
   "metadata": {},
   "outputs": [],
   "source": [
    "cosine_sim = cosine_similarity(tfidf_matrix)"
   ]
  },
  {
   "cell_type": "code",
   "execution_count": 18,
   "metadata": {},
   "outputs": [
    {
     "data": {
      "text/plain": "array([[1.        , 0.        , 0.        , ..., 0.        , 0.        ,\n        0.        ],\n       [0.        , 1.        , 0.        , ..., 0.        , 0.        ,\n        0.        ],\n       [0.        , 0.        , 1.        , ..., 0.10729347, 0.        ,\n        0.        ],\n       ...,\n       [0.        , 0.        , 0.10729347, ..., 1.        , 0.        ,\n        0.        ],\n       [0.        , 0.        , 0.        , ..., 0.        , 1.        ,\n        0.        ],\n       [0.        , 0.        , 0.        , ..., 0.        , 0.        ,\n        1.        ]])"
     },
     "execution_count": 18,
     "metadata": {},
     "output_type": "execute_result"
    }
   ],
   "source": [
    "cosine_sim"
   ]
  },
  {
   "cell_type": "code",
   "execution_count": 19,
   "metadata": {},
   "outputs": [],
   "source": [
    "def get_title_from_index(index):\n",
    "    return book_data[book_data.index==index]['original_title'].values[0]\n",
    "def get_index_from_title(title):\n",
    "    return book_data[book_data.original_title==title]['index'].values[0]"
   ]
  },
  {
   "cell_type": "code",
   "execution_count": 27,
   "metadata": {},
   "outputs": [],
   "source": [
    "def recommendation(Book_name):\n",
    "    Book_index = get_index_from_title(Book_name)\n",
    "    similar_books = list(enumerate(cosine_sim[Book_index]))\n",
    "    sorted_list = sorted(similar_books, key=lambda x:x[1], reverse=True)[1:]\n",
    "    i=0\n",
    "    print(\"Top ten similar books are:\\n\")\n",
    "    for elements in sorted_list:\n",
    "        print(get_title_from_index(elements[0]))\n",
    "        i = i+1\n",
    "        if i>10:\n",
    "            break"
   ]
  },
  {
   "cell_type": "code",
   "execution_count": 28,
   "metadata": {},
   "outputs": [],
   "source": [
    "book_list=book_data.original_title.to_list()"
   ]
  },
  {
   "cell_type": "markdown",
   "source": [
    "Getting The name on which suggestion is given"
   ],
   "metadata": {
    "collapsed": false,
    "pycharm": {
     "name": "#%% md\n"
    }
   }
  },
  {
   "cell_type": "code",
   "execution_count": 29,
   "metadata": {},
   "outputs": [],
   "source": [
    "book_name = \"The Great gotby\" #original is: \"The Great Gatsby\""
   ]
  },
  {
   "cell_type": "markdown",
   "source": [
    "Autocorrect"
   ],
   "metadata": {
    "collapsed": false,
    "pycharm": {
     "name": "#%% md\n"
    }
   }
  },
  {
   "cell_type": "code",
   "execution_count": 30,
   "metadata": {},
   "outputs": [],
   "source": [
    "closest = get_close_matches(book_name,book_list)"
   ]
  },
  {
   "cell_type": "code",
   "execution_count": 31,
   "metadata": {},
   "outputs": [],
   "source": [
    "Book_name = closest[0]"
   ]
  },
  {
   "cell_type": "code",
   "execution_count": 32,
   "metadata": {},
   "outputs": [
    {
     "data": {
      "text/plain": "'The Great Gatsby'"
     },
     "execution_count": 32,
     "metadata": {},
     "output_type": "execute_result"
    }
   ],
   "source": [
    "Book_name"
   ]
  },
  {
   "cell_type": "markdown",
   "source": [
    "Results"
   ],
   "metadata": {
    "collapsed": false,
    "pycharm": {
     "name": "#%% md\n"
    }
   }
  },
  {
   "cell_type": "code",
   "execution_count": 33,
   "metadata": {},
   "outputs": [
    {
     "name": "stdout",
     "output_type": "stream",
     "text": [
      "Top ten similar books are:\n",
      "\n",
      "Agent to the stars\n",
      "Full Dark, No Stars\n",
      "Stars of Fortune\n",
      "Paper Towns\n",
      "Looking for Alaska\n",
      "Stars Above\n",
      "The City and the Stars\n",
      "An Abundance of Katherines\n",
      "Number the Stars\n",
      "The Stars Shine Down\n",
      "The Other Woman\n"
     ]
    }
   ],
   "source": [
    "if Book_name in book_list:\n",
    "    recommendation(Book_name)\n",
    "else:\n",
    "    print(\"Wrong Book Name, Please put Correct Name\")"
   ]
  },
  {
   "cell_type": "code",
   "execution_count": 26,
   "metadata": {},
   "outputs": [],
   "source": []
  }
 ],
 "metadata": {
  "kernelspec": {
   "name": "conda-env-anaconda3-tensorflow-py",
   "language": "python",
   "display_name": "Python [conda env:anaconda3-tensorflow]"
  },
  "language_info": {
   "codemirror_mode": {
    "name": "ipython",
    "version": 3
   },
   "file_extension": ".py",
   "mimetype": "text/x-python",
   "name": "python",
   "nbconvert_exporter": "python",
   "pygments_lexer": "ipython3",
   "version": "3.7.7"
  }
 },
 "nbformat": 4,
 "nbformat_minor": 4
}
