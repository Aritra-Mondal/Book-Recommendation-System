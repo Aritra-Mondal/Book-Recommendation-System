{
 "cells": [
  {
   "cell_type": "code",
   "execution_count": 2,
   "metadata": {},
   "outputs": [],
   "source": [
    "import pandas as pd"
   ]
  },
  {
   "cell_type": "markdown",
   "source": [
    "Load data in data frame"
   ],
   "metadata": {
    "collapsed": false,
    "pycharm": {
     "name": "#%% md\n"
    }
   }
  },
  {
   "cell_type": "code",
   "execution_count": 3,
   "metadata": {},
   "outputs": [
    {
     "data": {
      "text/plain": "   id  book_id  best_book_id  work_id  books_count       isbn        isbn13  \\\n0   1  2767052       2767052  2792775          272  439023483  9.780439e+12   \n1   2        3             3  4640799          491  439554934  9.780440e+12   \n2   3    41865         41865  3212258          226  316015849  9.780316e+12   \n3   4     2657          2657  3275794          487   61120081  9.780061e+12   \n4   5     4671          4671   245494         1356  743273567  9.780743e+12   \n\n                       authors  original_publication_year  \\\n0              Suzanne Collins                     2008.0   \n1  J.K. Rowling, Mary GrandPré                     1997.0   \n2              Stephenie Meyer                     2005.0   \n3                   Harper Lee                     1960.0   \n4          F. Scott Fitzgerald                     1925.0   \n\n                             original_title  ... ratings_count  \\\n0                          The Hunger Games  ...       4780653   \n1  Harry Potter and the Philosopher's Stone  ...       4602479   \n2                                  Twilight  ...       3866839   \n3                     To Kill a Mockingbird  ...       3198671   \n4                          The Great Gatsby  ...       2683664   \n\n  work_ratings_count  work_text_reviews_count  ratings_1  ratings_2  \\\n0            4942365                   155254      66715     127936   \n1            4800065                    75867      75504     101676   \n2            3916824                    95009     456191     436802   \n3            3340896                    72586      60427     117415   \n4            2773745                    51992      86236     197621   \n\n   ratings_3  ratings_4  ratings_5  \\\n0     560092    1481305    2706317   \n1     455024    1156318    3011543   \n2     793319     875073    1355439   \n3     446835    1001952    1714267   \n4     606158     936012     947718   \n\n                                           image_url  \\\n0  https://images.gr-assets.com/books/1447303603m...   \n1  https://images.gr-assets.com/books/1474154022m...   \n2  https://images.gr-assets.com/books/1361039443m...   \n3  https://images.gr-assets.com/books/1361975680m...   \n4  https://images.gr-assets.com/books/1490528560m...   \n\n                                     small_image_url  \n0  https://images.gr-assets.com/books/1447303603s...  \n1  https://images.gr-assets.com/books/1474154022s...  \n2  https://images.gr-assets.com/books/1361039443s...  \n3  https://images.gr-assets.com/books/1361975680s...  \n4  https://images.gr-assets.com/books/1490528560s...  \n\n[5 rows x 23 columns]",
      "text/html": "<div>\n<style scoped>\n    .dataframe tbody tr th:only-of-type {\n        vertical-align: middle;\n    }\n\n    .dataframe tbody tr th {\n        vertical-align: top;\n    }\n\n    .dataframe thead th {\n        text-align: right;\n    }\n</style>\n<table border=\"1\" class=\"dataframe\">\n  <thead>\n    <tr style=\"text-align: right;\">\n      <th></th>\n      <th>id</th>\n      <th>book_id</th>\n      <th>best_book_id</th>\n      <th>work_id</th>\n      <th>books_count</th>\n      <th>isbn</th>\n      <th>isbn13</th>\n      <th>authors</th>\n      <th>original_publication_year</th>\n      <th>original_title</th>\n      <th>...</th>\n      <th>ratings_count</th>\n      <th>work_ratings_count</th>\n      <th>work_text_reviews_count</th>\n      <th>ratings_1</th>\n      <th>ratings_2</th>\n      <th>ratings_3</th>\n      <th>ratings_4</th>\n      <th>ratings_5</th>\n      <th>image_url</th>\n      <th>small_image_url</th>\n    </tr>\n  </thead>\n  <tbody>\n    <tr>\n      <th>0</th>\n      <td>1</td>\n      <td>2767052</td>\n      <td>2767052</td>\n      <td>2792775</td>\n      <td>272</td>\n      <td>439023483</td>\n      <td>9.780439e+12</td>\n      <td>Suzanne Collins</td>\n      <td>2008.0</td>\n      <td>The Hunger Games</td>\n      <td>...</td>\n      <td>4780653</td>\n      <td>4942365</td>\n      <td>155254</td>\n      <td>66715</td>\n      <td>127936</td>\n      <td>560092</td>\n      <td>1481305</td>\n      <td>2706317</td>\n      <td>https://images.gr-assets.com/books/1447303603m...</td>\n      <td>https://images.gr-assets.com/books/1447303603s...</td>\n    </tr>\n    <tr>\n      <th>1</th>\n      <td>2</td>\n      <td>3</td>\n      <td>3</td>\n      <td>4640799</td>\n      <td>491</td>\n      <td>439554934</td>\n      <td>9.780440e+12</td>\n      <td>J.K. Rowling, Mary GrandPré</td>\n      <td>1997.0</td>\n      <td>Harry Potter and the Philosopher's Stone</td>\n      <td>...</td>\n      <td>4602479</td>\n      <td>4800065</td>\n      <td>75867</td>\n      <td>75504</td>\n      <td>101676</td>\n      <td>455024</td>\n      <td>1156318</td>\n      <td>3011543</td>\n      <td>https://images.gr-assets.com/books/1474154022m...</td>\n      <td>https://images.gr-assets.com/books/1474154022s...</td>\n    </tr>\n    <tr>\n      <th>2</th>\n      <td>3</td>\n      <td>41865</td>\n      <td>41865</td>\n      <td>3212258</td>\n      <td>226</td>\n      <td>316015849</td>\n      <td>9.780316e+12</td>\n      <td>Stephenie Meyer</td>\n      <td>2005.0</td>\n      <td>Twilight</td>\n      <td>...</td>\n      <td>3866839</td>\n      <td>3916824</td>\n      <td>95009</td>\n      <td>456191</td>\n      <td>436802</td>\n      <td>793319</td>\n      <td>875073</td>\n      <td>1355439</td>\n      <td>https://images.gr-assets.com/books/1361039443m...</td>\n      <td>https://images.gr-assets.com/books/1361039443s...</td>\n    </tr>\n    <tr>\n      <th>3</th>\n      <td>4</td>\n      <td>2657</td>\n      <td>2657</td>\n      <td>3275794</td>\n      <td>487</td>\n      <td>61120081</td>\n      <td>9.780061e+12</td>\n      <td>Harper Lee</td>\n      <td>1960.0</td>\n      <td>To Kill a Mockingbird</td>\n      <td>...</td>\n      <td>3198671</td>\n      <td>3340896</td>\n      <td>72586</td>\n      <td>60427</td>\n      <td>117415</td>\n      <td>446835</td>\n      <td>1001952</td>\n      <td>1714267</td>\n      <td>https://images.gr-assets.com/books/1361975680m...</td>\n      <td>https://images.gr-assets.com/books/1361975680s...</td>\n    </tr>\n    <tr>\n      <th>4</th>\n      <td>5</td>\n      <td>4671</td>\n      <td>4671</td>\n      <td>245494</td>\n      <td>1356</td>\n      <td>743273567</td>\n      <td>9.780743e+12</td>\n      <td>F. Scott Fitzgerald</td>\n      <td>1925.0</td>\n      <td>The Great Gatsby</td>\n      <td>...</td>\n      <td>2683664</td>\n      <td>2773745</td>\n      <td>51992</td>\n      <td>86236</td>\n      <td>197621</td>\n      <td>606158</td>\n      <td>936012</td>\n      <td>947718</td>\n      <td>https://images.gr-assets.com/books/1490528560m...</td>\n      <td>https://images.gr-assets.com/books/1490528560s...</td>\n    </tr>\n  </tbody>\n</table>\n<p>5 rows × 23 columns</p>\n</div>"
     },
     "execution_count": 3,
     "metadata": {},
     "output_type": "execute_result"
    }
   ],
   "source": [
    "book = pd.read_csv(\"books.csv\")\n",
    "book.head()"
   ]
  },
  {
   "cell_type": "code",
   "execution_count": 4,
   "metadata": {},
   "outputs": [
    {
     "data": {
      "text/plain": "   book_id  user_id  rating\n0        1      314       5\n1        1      439       3\n2        1      588       5\n3        1     1169       4\n4        1     1185       4",
      "text/html": "<div>\n<style scoped>\n    .dataframe tbody tr th:only-of-type {\n        vertical-align: middle;\n    }\n\n    .dataframe tbody tr th {\n        vertical-align: top;\n    }\n\n    .dataframe thead th {\n        text-align: right;\n    }\n</style>\n<table border=\"1\" class=\"dataframe\">\n  <thead>\n    <tr style=\"text-align: right;\">\n      <th></th>\n      <th>book_id</th>\n      <th>user_id</th>\n      <th>rating</th>\n    </tr>\n  </thead>\n  <tbody>\n    <tr>\n      <th>0</th>\n      <td>1</td>\n      <td>314</td>\n      <td>5</td>\n    </tr>\n    <tr>\n      <th>1</th>\n      <td>1</td>\n      <td>439</td>\n      <td>3</td>\n    </tr>\n    <tr>\n      <th>2</th>\n      <td>1</td>\n      <td>588</td>\n      <td>5</td>\n    </tr>\n    <tr>\n      <th>3</th>\n      <td>1</td>\n      <td>1169</td>\n      <td>4</td>\n    </tr>\n    <tr>\n      <th>4</th>\n      <td>1</td>\n      <td>1185</td>\n      <td>4</td>\n    </tr>\n  </tbody>\n</table>\n</div>"
     },
     "execution_count": 4,
     "metadata": {},
     "output_type": "execute_result"
    }
   ],
   "source": [
    "ratings = pd.read_csv('ratings.csv')\n",
    "ratings.head()"
   ]
  },
  {
   "cell_type": "code",
   "execution_count": 5,
   "metadata": {},
   "outputs": [],
   "source": [
    "df = pd.DataFrame(book, columns=['book_id', 'authors', 'original_title', 'average_rating'])"
   ]
  },
  {
   "cell_type": "code",
   "execution_count": 6,
   "metadata": {},
   "outputs": [],
   "source": [
    "book_data = pd.merge(df, ratings, on=\"book_id\")"
   ]
  },
  {
   "cell_type": "code",
   "execution_count": 7,
   "metadata": {},
   "outputs": [
    {
     "data": {
      "text/plain": "   book_id                      authors  \\\n0        3  J.K. Rowling, Mary GrandPré   \n1        3  J.K. Rowling, Mary GrandPré   \n2        3  J.K. Rowling, Mary GrandPré   \n3        3  J.K. Rowling, Mary GrandPré   \n4        3  J.K. Rowling, Mary GrandPré   \n\n                             original_title  average_rating  user_id  rating  \n0  Harry Potter and the Philosopher's Stone            4.44      314       3  \n1  Harry Potter and the Philosopher's Stone            4.44      588       1  \n2  Harry Potter and the Philosopher's Stone            4.44     2077       2  \n3  Harry Potter and the Philosopher's Stone            4.44     2487       3  \n4  Harry Potter and the Philosopher's Stone            4.44     2900       3  ",
      "text/html": "<div>\n<style scoped>\n    .dataframe tbody tr th:only-of-type {\n        vertical-align: middle;\n    }\n\n    .dataframe tbody tr th {\n        vertical-align: top;\n    }\n\n    .dataframe thead th {\n        text-align: right;\n    }\n</style>\n<table border=\"1\" class=\"dataframe\">\n  <thead>\n    <tr style=\"text-align: right;\">\n      <th></th>\n      <th>book_id</th>\n      <th>authors</th>\n      <th>original_title</th>\n      <th>average_rating</th>\n      <th>user_id</th>\n      <th>rating</th>\n    </tr>\n  </thead>\n  <tbody>\n    <tr>\n      <th>0</th>\n      <td>3</td>\n      <td>J.K. Rowling, Mary GrandPré</td>\n      <td>Harry Potter and the Philosopher's Stone</td>\n      <td>4.44</td>\n      <td>314</td>\n      <td>3</td>\n    </tr>\n    <tr>\n      <th>1</th>\n      <td>3</td>\n      <td>J.K. Rowling, Mary GrandPré</td>\n      <td>Harry Potter and the Philosopher's Stone</td>\n      <td>4.44</td>\n      <td>588</td>\n      <td>1</td>\n    </tr>\n    <tr>\n      <th>2</th>\n      <td>3</td>\n      <td>J.K. Rowling, Mary GrandPré</td>\n      <td>Harry Potter and the Philosopher's Stone</td>\n      <td>4.44</td>\n      <td>2077</td>\n      <td>2</td>\n    </tr>\n    <tr>\n      <th>3</th>\n      <td>3</td>\n      <td>J.K. Rowling, Mary GrandPré</td>\n      <td>Harry Potter and the Philosopher's Stone</td>\n      <td>4.44</td>\n      <td>2487</td>\n      <td>3</td>\n    </tr>\n    <tr>\n      <th>4</th>\n      <td>3</td>\n      <td>J.K. Rowling, Mary GrandPré</td>\n      <td>Harry Potter and the Philosopher's Stone</td>\n      <td>4.44</td>\n      <td>2900</td>\n      <td>3</td>\n    </tr>\n  </tbody>\n</table>\n</div>"
     },
     "execution_count": 7,
     "metadata": {},
     "output_type": "execute_result"
    }
   ],
   "source": [
    "book_data.head()"
   ]
  },
  {
   "cell_type": "code",
   "execution_count": 26,
   "outputs": [
    {
     "data": {
      "text/plain": "   book_id                            original_title  user_id  rating\n0        3  Harry Potter and the Philosopher's Stone      314       3\n1        3  Harry Potter and the Philosopher's Stone      588       1\n2        3  Harry Potter and the Philosopher's Stone     2077       2\n3        3  Harry Potter and the Philosopher's Stone     2487       3\n4        3  Harry Potter and the Philosopher's Stone     2900       3",
      "text/html": "<div>\n<style scoped>\n    .dataframe tbody tr th:only-of-type {\n        vertical-align: middle;\n    }\n\n    .dataframe tbody tr th {\n        vertical-align: top;\n    }\n\n    .dataframe thead th {\n        text-align: right;\n    }\n</style>\n<table border=\"1\" class=\"dataframe\">\n  <thead>\n    <tr style=\"text-align: right;\">\n      <th></th>\n      <th>book_id</th>\n      <th>original_title</th>\n      <th>user_id</th>\n      <th>rating</th>\n    </tr>\n  </thead>\n  <tbody>\n    <tr>\n      <th>0</th>\n      <td>3</td>\n      <td>Harry Potter and the Philosopher's Stone</td>\n      <td>314</td>\n      <td>3</td>\n    </tr>\n    <tr>\n      <th>1</th>\n      <td>3</td>\n      <td>Harry Potter and the Philosopher's Stone</td>\n      <td>588</td>\n      <td>1</td>\n    </tr>\n    <tr>\n      <th>2</th>\n      <td>3</td>\n      <td>Harry Potter and the Philosopher's Stone</td>\n      <td>2077</td>\n      <td>2</td>\n    </tr>\n    <tr>\n      <th>3</th>\n      <td>3</td>\n      <td>Harry Potter and the Philosopher's Stone</td>\n      <td>2487</td>\n      <td>3</td>\n    </tr>\n    <tr>\n      <th>4</th>\n      <td>3</td>\n      <td>Harry Potter and the Philosopher's Stone</td>\n      <td>2900</td>\n      <td>3</td>\n    </tr>\n  </tbody>\n</table>\n</div>"
     },
     "execution_count": 26,
     "metadata": {},
     "output_type": "execute_result"
    }
   ],
   "source": [
    "book_data = book_data.drop([\"average_rating\",\"authors\"], axis=1)\n",
    "book_data.head()"
   ],
   "metadata": {
    "collapsed": false,
    "pycharm": {
     "name": "#%%\n"
    }
   }
  },
  {
   "cell_type": "markdown",
   "source": [
    "Remove null and Nan value"
   ],
   "metadata": {
    "collapsed": false,
    "pycharm": {
     "name": "#%% md\n"
    }
   }
  },
  {
   "cell_type": "code",
   "execution_count": 8,
   "metadata": {},
   "outputs": [
    {
     "data": {
      "text/plain": "book_id              0\nauthors              0\noriginal_title    1781\naverage_rating       0\nuser_id              0\nrating               0\ndtype: int64"
     },
     "execution_count": 8,
     "metadata": {},
     "output_type": "execute_result"
    }
   ],
   "source": [
    "book_data.isnull().sum()"
   ]
  },
  {
   "cell_type": "code",
   "execution_count": 9,
   "metadata": {},
   "outputs": [],
   "source": [
    "book_data = book_data.dropna()"
   ]
  },
  {
   "cell_type": "code",
   "execution_count": 10,
   "outputs": [
    {
     "data": {
      "text/plain": "book_id           0\nauthors           0\noriginal_title    0\naverage_rating    0\nuser_id           0\nrating            0\ndtype: int64"
     },
     "execution_count": 10,
     "metadata": {},
     "output_type": "execute_result"
    }
   ],
   "source": [
    "book_data.isnull().sum()"
   ],
   "metadata": {
    "collapsed": false,
    "pycharm": {
     "name": "#%%\n"
    }
   }
  },
  {
   "cell_type": "markdown",
   "source": [
    "Make table to with users and book names based on ratings"
   ],
   "metadata": {
    "collapsed": false,
    "pycharm": {
     "name": "#%% md\n"
    }
   }
  },
  {
   "cell_type": "code",
   "execution_count": 11,
   "metadata": {},
   "outputs": [
    {
     "data": {
      "text/plain": "original_title      Animal Farm & 1984   Carter Beats the Devil  \\\nuser_id                                                           \n2               0                    0                        0   \n3               0                    0                        0   \n4               0                    0                        0   \n7               0                    0                        0   \n9               0                    0                        0   \n\noriginal_title   The Fellowship of the Ring  \\\nuser_id                                       \n2                                         0   \n3                                         0   \n4                                         0   \n7                                         0   \n9                                         0   \n\noriginal_title   めくらやなぎと、眠る女 [Mekurayanagi to, nemuru onna]  \\\nuser_id                                                       \n2                                                       0.0   \n3                                                       0.0   \n4                                                       0.0   \n7                                                       0.0   \n9                                                       0.0   \n\noriginal_title  'Salem's Lot The Illustrated Edition  'Tis: A Memoir  \\\nuser_id                                                                \n2                                                  0               0   \n3                                                  0               0   \n4                                                  0               0   \n7                                                  0               0   \n9                                                  0               0   \n\noriginal_title  1421: The Year China Discovered America  1776  31 Songs  ...  \\\nuser_id                                                                  ...   \n2                                                     0     0         0  ...   \n3                                                     0     0         0  ...   \n4                                                     0     0         0  ...   \n7                                                     0     0         0  ...   \n9                                                     0     0         0  ...   \n\noriginal_title  Ἰλιάς ; Ὀδύσσεια  Ἰστορίαι  Ὀδύσσεια  Ὀρέστεια  \\\nuser_id                                                          \n2                              0         0         0         0   \n3                              0         0         0         0   \n4                              0         0         0         0   \n7                              0         0         0         5   \n9                              0         0         0         0   \n\noriginal_title  …trotzdem Ja zum Leben sagen: Ein Psychologe erlebt das Konzentrationslager  \\\nuser_id                                                                                       \n2                                                               0                             \n3                                                               0                             \n4                                                               0                             \n7                                                               0                             \n9                                                               0                             \n\noriginal_title  スプートニクの恋人 [Supūtoniku no Koibito]  海辺のカフカ [Umibe no Kafuka]  \\\nuser_id                                                                       \n2                                               0                         0   \n3                                               0                         0   \n4                                               0                         0   \n7                                               0                         0   \n9                                               0                         0   \n\noriginal_title  砂の女 [Suna no onna]  象の消滅 [Zō no shōmetsu]  鋼の錬金術師 1  \nuser_id                                                              \n2                                0                      0         0  \n3                                0                      0         0  \n4                                0                      0         0  \n7                                0                      0         0  \n9                                0                      0         0  \n\n[5 rows x 794 columns]",
      "text/html": "<div>\n<style scoped>\n    .dataframe tbody tr th:only-of-type {\n        vertical-align: middle;\n    }\n\n    .dataframe tbody tr th {\n        vertical-align: top;\n    }\n\n    .dataframe thead th {\n        text-align: right;\n    }\n</style>\n<table border=\"1\" class=\"dataframe\">\n  <thead>\n    <tr style=\"text-align: right;\">\n      <th>original_title</th>\n      <th></th>\n      <th>Animal Farm &amp; 1984</th>\n      <th>Carter Beats the Devil</th>\n      <th>The Fellowship of the Ring</th>\n      <th>めくらやなぎと、眠る女 [Mekurayanagi to, nemuru onna]</th>\n      <th>'Salem's Lot The Illustrated Edition</th>\n      <th>'Tis: A Memoir</th>\n      <th>1421: The Year China Discovered America</th>\n      <th>1776</th>\n      <th>31 Songs</th>\n      <th>...</th>\n      <th>Ἰλιάς ; Ὀδύσσεια</th>\n      <th>Ἰστορίαι</th>\n      <th>Ὀδύσσεια</th>\n      <th>Ὀρέστεια</th>\n      <th>…trotzdem Ja zum Leben sagen: Ein Psychologe erlebt das Konzentrationslager</th>\n      <th>スプートニクの恋人 [Supūtoniku no Koibito]</th>\n      <th>海辺のカフカ [Umibe no Kafuka]</th>\n      <th>砂の女 [Suna no onna]</th>\n      <th>象の消滅 [Zō no shōmetsu]</th>\n      <th>鋼の錬金術師 1</th>\n    </tr>\n    <tr>\n      <th>user_id</th>\n      <th></th>\n      <th></th>\n      <th></th>\n      <th></th>\n      <th></th>\n      <th></th>\n      <th></th>\n      <th></th>\n      <th></th>\n      <th></th>\n      <th></th>\n      <th></th>\n      <th></th>\n      <th></th>\n      <th></th>\n      <th></th>\n      <th></th>\n      <th></th>\n      <th></th>\n      <th></th>\n      <th></th>\n    </tr>\n  </thead>\n  <tbody>\n    <tr>\n      <th>2</th>\n      <td>0</td>\n      <td>0</td>\n      <td>0</td>\n      <td>0</td>\n      <td>0.0</td>\n      <td>0</td>\n      <td>0</td>\n      <td>0</td>\n      <td>0</td>\n      <td>0</td>\n      <td>...</td>\n      <td>0</td>\n      <td>0</td>\n      <td>0</td>\n      <td>0</td>\n      <td>0</td>\n      <td>0</td>\n      <td>0</td>\n      <td>0</td>\n      <td>0</td>\n      <td>0</td>\n    </tr>\n    <tr>\n      <th>3</th>\n      <td>0</td>\n      <td>0</td>\n      <td>0</td>\n      <td>0</td>\n      <td>0.0</td>\n      <td>0</td>\n      <td>0</td>\n      <td>0</td>\n      <td>0</td>\n      <td>0</td>\n      <td>...</td>\n      <td>0</td>\n      <td>0</td>\n      <td>0</td>\n      <td>0</td>\n      <td>0</td>\n      <td>0</td>\n      <td>0</td>\n      <td>0</td>\n      <td>0</td>\n      <td>0</td>\n    </tr>\n    <tr>\n      <th>4</th>\n      <td>0</td>\n      <td>0</td>\n      <td>0</td>\n      <td>0</td>\n      <td>0.0</td>\n      <td>0</td>\n      <td>0</td>\n      <td>0</td>\n      <td>0</td>\n      <td>0</td>\n      <td>...</td>\n      <td>0</td>\n      <td>0</td>\n      <td>0</td>\n      <td>0</td>\n      <td>0</td>\n      <td>0</td>\n      <td>0</td>\n      <td>0</td>\n      <td>0</td>\n      <td>0</td>\n    </tr>\n    <tr>\n      <th>7</th>\n      <td>0</td>\n      <td>0</td>\n      <td>0</td>\n      <td>0</td>\n      <td>0.0</td>\n      <td>0</td>\n      <td>0</td>\n      <td>0</td>\n      <td>0</td>\n      <td>0</td>\n      <td>...</td>\n      <td>0</td>\n      <td>0</td>\n      <td>0</td>\n      <td>5</td>\n      <td>0</td>\n      <td>0</td>\n      <td>0</td>\n      <td>0</td>\n      <td>0</td>\n      <td>0</td>\n    </tr>\n    <tr>\n      <th>9</th>\n      <td>0</td>\n      <td>0</td>\n      <td>0</td>\n      <td>0</td>\n      <td>0.0</td>\n      <td>0</td>\n      <td>0</td>\n      <td>0</td>\n      <td>0</td>\n      <td>0</td>\n      <td>...</td>\n      <td>0</td>\n      <td>0</td>\n      <td>0</td>\n      <td>0</td>\n      <td>0</td>\n      <td>0</td>\n      <td>0</td>\n      <td>0</td>\n      <td>0</td>\n      <td>0</td>\n    </tr>\n  </tbody>\n</table>\n<p>5 rows × 794 columns</p>\n</div>"
     },
     "execution_count": 11,
     "metadata": {},
     "output_type": "execute_result"
    }
   ],
   "source": [
    "userRatings = book_data.pivot_table(index=[\"user_id\"],columns=['original_title'],values ='rating', fill_value=0)\n",
    "userRatings.head()"
   ]
  },
  {
   "cell_type": "markdown",
   "source": [
    "Standarize value of ratings"
   ],
   "metadata": {
    "collapsed": false,
    "pycharm": {
     "name": "#%% md\n"
    }
   }
  },
  {
   "cell_type": "code",
   "execution_count": 12,
   "metadata": {},
   "outputs": [
    {
     "data": {
      "text/plain": "user_id                                         2         3         4      \\\noriginal_title                                                              \n                                            -0.002416 -0.002416 -0.002416   \n Animal Farm & 1984                         -0.002634 -0.002634 -0.002634   \n Carter Beats the Devil                     -0.003026 -0.003026 -0.003026   \n The Fellowship of the Ring                 -0.001933 -0.001933 -0.001933   \n めくらやなぎと、眠る女 [Mekurayanagi to, nemuru onna] -0.002490 -0.002490 -0.002490   \n\nuser_id                                         7         9         10     \\\noriginal_title                                                              \n                                            -0.002416 -0.002416 -0.002416   \n Animal Farm & 1984                         -0.002634 -0.002634 -0.002634   \n Carter Beats the Devil                     -0.003026 -0.003026 -0.003026   \n The Fellowship of the Ring                 -0.001933 -0.001933 -0.001933   \n めくらやなぎと、眠る女 [Mekurayanagi to, nemuru onna] -0.002490 -0.002490 -0.002490   \n\nuser_id                                         11        14        15     \\\noriginal_title                                                              \n                                            -0.002416 -0.002416 -0.002416   \n Animal Farm & 1984                         -0.002634 -0.002634 -0.002634   \n Carter Beats the Devil                     -0.003026 -0.003026 -0.003026   \n The Fellowship of the Ring                 -0.001933 -0.001933 -0.001933   \n めくらやなぎと、眠る女 [Mekurayanagi to, nemuru onna] -0.002490 -0.002490 -0.002490   \n\nuser_id                                         20     ...     53404  \\\noriginal_title                                         ...             \n                                            -0.002416  ... -0.002416   \n Animal Farm & 1984                         -0.002634  ... -0.002634   \n Carter Beats the Devil                     -0.003026  ... -0.003026   \n The Fellowship of the Ring                 -0.001933  ... -0.001933   \n めくらやなぎと、眠る女 [Mekurayanagi to, nemuru onna] -0.002490  ... -0.002490   \n\nuser_id                                         53406     53408     53409  \\\noriginal_title                                                              \n                                            -0.002416 -0.002416 -0.002416   \n Animal Farm & 1984                         -0.002634 -0.002634 -0.002634   \n Carter Beats the Devil                     -0.003026 -0.003026 -0.003026   \n The Fellowship of the Ring                 -0.001933 -0.001933 -0.001933   \n めくらやなぎと、眠る女 [Mekurayanagi to, nemuru onna] -0.002490 -0.002490 -0.002490   \n\nuser_id                                         53416     53419     53420  \\\noriginal_title                                                              \n                                            -0.002416 -0.002416 -0.002416   \n Animal Farm & 1984                         -0.002634 -0.002634 -0.002634   \n Carter Beats the Devil                     -0.003026 -0.003026 -0.003026   \n The Fellowship of the Ring                 -0.001933 -0.001933 -0.001933   \n めくらやなぎと、眠る女 [Mekurayanagi to, nemuru onna] -0.002490 -0.002490 -0.002490   \n\nuser_id                                         53422     53423     53424  \noriginal_title                                                             \n                                            -0.002416 -0.002416 -0.002416  \n Animal Farm & 1984                         -0.002634 -0.002634 -0.002634  \n Carter Beats the Devil                     -0.003026 -0.003026 -0.003026  \n The Fellowship of the Ring                 -0.001933 -0.001933 -0.001933  \n めくらやなぎと、眠る女 [Mekurayanagi to, nemuru onna] -0.002490 -0.002490 -0.002490  \n\n[5 rows x 28554 columns]",
      "text/html": "<div>\n<style scoped>\n    .dataframe tbody tr th:only-of-type {\n        vertical-align: middle;\n    }\n\n    .dataframe tbody tr th {\n        vertical-align: top;\n    }\n\n    .dataframe thead th {\n        text-align: right;\n    }\n</style>\n<table border=\"1\" class=\"dataframe\">\n  <thead>\n    <tr style=\"text-align: right;\">\n      <th>user_id</th>\n      <th>2</th>\n      <th>3</th>\n      <th>4</th>\n      <th>7</th>\n      <th>9</th>\n      <th>10</th>\n      <th>11</th>\n      <th>14</th>\n      <th>15</th>\n      <th>20</th>\n      <th>...</th>\n      <th>53404</th>\n      <th>53406</th>\n      <th>53408</th>\n      <th>53409</th>\n      <th>53416</th>\n      <th>53419</th>\n      <th>53420</th>\n      <th>53422</th>\n      <th>53423</th>\n      <th>53424</th>\n    </tr>\n    <tr>\n      <th>original_title</th>\n      <th></th>\n      <th></th>\n      <th></th>\n      <th></th>\n      <th></th>\n      <th></th>\n      <th></th>\n      <th></th>\n      <th></th>\n      <th></th>\n      <th></th>\n      <th></th>\n      <th></th>\n      <th></th>\n      <th></th>\n      <th></th>\n      <th></th>\n      <th></th>\n      <th></th>\n      <th></th>\n      <th></th>\n    </tr>\n  </thead>\n  <tbody>\n    <tr>\n      <th></th>\n      <td>-0.002416</td>\n      <td>-0.002416</td>\n      <td>-0.002416</td>\n      <td>-0.002416</td>\n      <td>-0.002416</td>\n      <td>-0.002416</td>\n      <td>-0.002416</td>\n      <td>-0.002416</td>\n      <td>-0.002416</td>\n      <td>-0.002416</td>\n      <td>...</td>\n      <td>-0.002416</td>\n      <td>-0.002416</td>\n      <td>-0.002416</td>\n      <td>-0.002416</td>\n      <td>-0.002416</td>\n      <td>-0.002416</td>\n      <td>-0.002416</td>\n      <td>-0.002416</td>\n      <td>-0.002416</td>\n      <td>-0.002416</td>\n    </tr>\n    <tr>\n      <th>Animal Farm &amp; 1984</th>\n      <td>-0.002634</td>\n      <td>-0.002634</td>\n      <td>-0.002634</td>\n      <td>-0.002634</td>\n      <td>-0.002634</td>\n      <td>-0.002634</td>\n      <td>-0.002634</td>\n      <td>-0.002634</td>\n      <td>-0.002634</td>\n      <td>-0.002634</td>\n      <td>...</td>\n      <td>-0.002634</td>\n      <td>-0.002634</td>\n      <td>-0.002634</td>\n      <td>-0.002634</td>\n      <td>-0.002634</td>\n      <td>-0.002634</td>\n      <td>-0.002634</td>\n      <td>-0.002634</td>\n      <td>-0.002634</td>\n      <td>-0.002634</td>\n    </tr>\n    <tr>\n      <th>Carter Beats the Devil</th>\n      <td>-0.003026</td>\n      <td>-0.003026</td>\n      <td>-0.003026</td>\n      <td>-0.003026</td>\n      <td>-0.003026</td>\n      <td>-0.003026</td>\n      <td>-0.003026</td>\n      <td>-0.003026</td>\n      <td>-0.003026</td>\n      <td>-0.003026</td>\n      <td>...</td>\n      <td>-0.003026</td>\n      <td>-0.003026</td>\n      <td>-0.003026</td>\n      <td>-0.003026</td>\n      <td>-0.003026</td>\n      <td>-0.003026</td>\n      <td>-0.003026</td>\n      <td>-0.003026</td>\n      <td>-0.003026</td>\n      <td>-0.003026</td>\n    </tr>\n    <tr>\n      <th>The Fellowship of the Ring</th>\n      <td>-0.001933</td>\n      <td>-0.001933</td>\n      <td>-0.001933</td>\n      <td>-0.001933</td>\n      <td>-0.001933</td>\n      <td>-0.001933</td>\n      <td>-0.001933</td>\n      <td>-0.001933</td>\n      <td>-0.001933</td>\n      <td>-0.001933</td>\n      <td>...</td>\n      <td>-0.001933</td>\n      <td>-0.001933</td>\n      <td>-0.001933</td>\n      <td>-0.001933</td>\n      <td>-0.001933</td>\n      <td>-0.001933</td>\n      <td>-0.001933</td>\n      <td>-0.001933</td>\n      <td>-0.001933</td>\n      <td>-0.001933</td>\n    </tr>\n    <tr>\n      <th>めくらやなぎと、眠る女 [Mekurayanagi to, nemuru onna]</th>\n      <td>-0.002490</td>\n      <td>-0.002490</td>\n      <td>-0.002490</td>\n      <td>-0.002490</td>\n      <td>-0.002490</td>\n      <td>-0.002490</td>\n      <td>-0.002490</td>\n      <td>-0.002490</td>\n      <td>-0.002490</td>\n      <td>-0.002490</td>\n      <td>...</td>\n      <td>-0.002490</td>\n      <td>-0.002490</td>\n      <td>-0.002490</td>\n      <td>-0.002490</td>\n      <td>-0.002490</td>\n      <td>-0.002490</td>\n      <td>-0.002490</td>\n      <td>-0.002490</td>\n      <td>-0.002490</td>\n      <td>-0.002490</td>\n    </tr>\n  </tbody>\n</table>\n<p>5 rows × 28554 columns</p>\n</div>"
     },
     "execution_count": 12,
     "metadata": {},
     "output_type": "execute_result"
    }
   ],
   "source": [
    "def standarize(row):\n",
    "    new_row = (row - row.mean())/(row.max()-row.min())\n",
    "    return new_row\n",
    "df_std = userRatings.apply(standarize).T\n",
    "df_std.head()"
   ]
  },
  {
   "cell_type": "markdown",
   "source": [
    "Item to item Recommendation"
   ],
   "metadata": {
    "collapsed": false,
    "pycharm": {
     "name": "#%% md\n"
    }
   }
  },
  {
   "cell_type": "code",
   "execution_count": 13,
   "outputs": [
    {
     "data": {
      "text/plain": "original_title                                          Animal Farm & 1984  \\\noriginal_title                                                               \n                                             1.000000            -0.003226   \n Animal Farm & 1984                         -0.003226             1.000000   \n Carter Beats the Devil                     -0.003282            -0.003355   \n The Fellowship of the Ring                 -0.002929            -0.002995   \n めくらやなぎと、眠る女 [Mekurayanagi to, nemuru onna] -0.003190            -0.003261   \n\noriginal_title                                Carter Beats the Devil  \\\noriginal_title                                                         \n                                                           -0.003282   \n Animal Farm & 1984                                        -0.003355   \n Carter Beats the Devil                                     1.000000   \n The Fellowship of the Ring                                 0.003519   \n めくらやなぎと、眠る女 [Mekurayanagi to, nemuru onna]                 0.006550   \n\noriginal_title                                The Fellowship of the Ring  \\\noriginal_title                                                             \n                                                               -0.002929   \n Animal Farm & 1984                                            -0.002995   \n Carter Beats the Devil                                         0.003519   \n The Fellowship of the Ring                                     1.000000   \n めくらやなぎと、眠る女 [Mekurayanagi to, nemuru onna]                    -0.002961   \n\noriginal_title                                めくらやなぎと、眠る女 [Mekurayanagi to, nemuru onna]  \\\noriginal_title                                                                             \n                                                                               -0.003190   \n Animal Farm & 1984                                                            -0.003261   \n Carter Beats the Devil                                                         0.006550   \n The Fellowship of the Ring                                                    -0.002961   \n めくらやなぎと、眠る女 [Mekurayanagi to, nemuru onna]                                     1.000000   \n\noriginal_title                               'Salem's Lot The Illustrated Edition  \\\noriginal_title                                                                      \n                                                                        -0.002741   \n Animal Farm & 1984                                                     -0.002802   \n Carter Beats the Devil                                                 -0.002850   \n The Fellowship of the Ring                                             -0.002544   \n めくらやなぎと、眠る女 [Mekurayanagi to, nemuru onna]                             -0.002770   \n\noriginal_title                               'Tis: A Memoir  \\\noriginal_title                                                \n                                                  -0.003237   \n Animal Farm & 1984                                0.006308   \n Carter Beats the Devil                           -0.003366   \n The Fellowship of the Ring                       -0.003005   \n めくらやなぎと、眠る女 [Mekurayanagi to, nemuru onna]       -0.003272   \n\noriginal_title                               1421: The Year China Discovered America  \\\noriginal_title                                                                         \n                                                                           -0.003216   \n Animal Farm & 1984                                                        -0.003288   \n Carter Beats the Devil                                                    -0.003344   \n The Fellowship of the Ring                                                 0.018109   \n めくらやなぎと、眠る女 [Mekurayanagi to, nemuru onna]                                -0.003251   \n\noriginal_title                                   1776  31 Songs  ...  \\\noriginal_title                                                   ...   \n                                            -0.003253 -0.003235  ...   \n Animal Farm & 1984                         -0.003325 -0.003308  ...   \n Carter Beats the Devil                     -0.003382 -0.003364  ...   \n The Fellowship of the Ring                  0.035126  0.013546  ...   \n めくらやなぎと、眠る女 [Mekurayanagi to, nemuru onna] -0.003287 -0.003270  ...   \n\noriginal_title                               Ἰλιάς ; Ὀδύσσεια  Ἰστορίαι  \\\noriginal_title                                                            \n                                                    -0.003205  0.010106   \n Animal Farm & 1984                                  0.005664 -0.003256   \n Carter Beats the Devil                             -0.003333 -0.003312   \n The Fellowship of the Ring                          0.039413  0.011607   \n めくらやなぎと、眠る女 [Mekurayanagi to, nemuru onna]          0.013121 -0.003219   \n\noriginal_title                               Ὀδύσσεια  Ὀρέστεια  \\\noriginal_title                                                    \n                                            -0.003191 -0.003251   \n Animal Farm & 1984                         -0.003262 -0.003323   \n Carter Beats the Devil                      0.016673 -0.003380   \n The Fellowship of the Ring                  0.021682  0.006880   \n めくらやなぎと、眠る女 [Mekurayanagi to, nemuru onna] -0.003225 -0.003286   \n\noriginal_title                               …trotzdem Ja zum Leben sagen: Ein Psychologe erlebt das Konzentrationslager  \\\noriginal_title                                                                                                             \n                                                                                     -0.003246                             \n Animal Farm & 1984                                                                  -0.003319                             \n Carter Beats the Devil                                                               0.005396                             \n The Fellowship of the Ring                                                          -0.003013                             \n めくらやなぎと、眠る女 [Mekurayanagi to, nemuru onna]                                          -0.003281                             \n\noriginal_title                               スプートニクの恋人 [Supūtoniku no Koibito]  \\\noriginal_title                                                                   \n                                                                     -0.003237   \n Animal Farm & 1984                                                  -0.003309   \n Carter Beats the Devil                                              -0.003366   \n The Fellowship of the Ring                                          -0.003004   \n めくらやなぎと、眠る女 [Mekurayanagi to, nemuru onna]                          -0.003272   \n\noriginal_title                               海辺のカフカ [Umibe no Kafuka]  \\\noriginal_title                                                          \n                                                            -0.003265   \n Animal Farm & 1984                                          0.003703   \n Carter Beats the Devil                                      0.019977   \n The Fellowship of the Ring                                 -0.003030   \n めくらやなぎと、眠る女 [Mekurayanagi to, nemuru onna]                 -0.003300   \n\noriginal_title                               砂の女 [Suna no onna]  \\\noriginal_title                                                    \n                                                      -0.003200   \n Animal Farm & 1984                                   -0.003272   \n Carter Beats the Devil                               -0.003328   \n The Fellowship of the Ring                           -0.002970   \n めくらやなぎと、眠る女 [Mekurayanagi to, nemuru onna]           -0.003234   \n\noriginal_title                               象の消滅 [Zō no shōmetsu]  鋼の錬金術師 1  \noriginal_title                                                                \n                                                         -0.003068  0.009124  \n Animal Farm & 1984                                      -0.003136  0.003627  \n Carter Beats the Devil                                  -0.003190 -0.003414  \n The Fellowship of the Ring                              -0.002847  0.011347  \n めくらやなぎと、眠る女 [Mekurayanagi to, nemuru onna]              -0.003101  0.006418  \n\n[5 rows x 794 columns]",
      "text/html": "<div>\n<style scoped>\n    .dataframe tbody tr th:only-of-type {\n        vertical-align: middle;\n    }\n\n    .dataframe tbody tr th {\n        vertical-align: top;\n    }\n\n    .dataframe thead th {\n        text-align: right;\n    }\n</style>\n<table border=\"1\" class=\"dataframe\">\n  <thead>\n    <tr style=\"text-align: right;\">\n      <th>original_title</th>\n      <th></th>\n      <th>Animal Farm &amp; 1984</th>\n      <th>Carter Beats the Devil</th>\n      <th>The Fellowship of the Ring</th>\n      <th>めくらやなぎと、眠る女 [Mekurayanagi to, nemuru onna]</th>\n      <th>'Salem's Lot The Illustrated Edition</th>\n      <th>'Tis: A Memoir</th>\n      <th>1421: The Year China Discovered America</th>\n      <th>1776</th>\n      <th>31 Songs</th>\n      <th>...</th>\n      <th>Ἰλιάς ; Ὀδύσσεια</th>\n      <th>Ἰστορίαι</th>\n      <th>Ὀδύσσεια</th>\n      <th>Ὀρέστεια</th>\n      <th>…trotzdem Ja zum Leben sagen: Ein Psychologe erlebt das Konzentrationslager</th>\n      <th>スプートニクの恋人 [Supūtoniku no Koibito]</th>\n      <th>海辺のカフカ [Umibe no Kafuka]</th>\n      <th>砂の女 [Suna no onna]</th>\n      <th>象の消滅 [Zō no shōmetsu]</th>\n      <th>鋼の錬金術師 1</th>\n    </tr>\n    <tr>\n      <th>original_title</th>\n      <th></th>\n      <th></th>\n      <th></th>\n      <th></th>\n      <th></th>\n      <th></th>\n      <th></th>\n      <th></th>\n      <th></th>\n      <th></th>\n      <th></th>\n      <th></th>\n      <th></th>\n      <th></th>\n      <th></th>\n      <th></th>\n      <th></th>\n      <th></th>\n      <th></th>\n      <th></th>\n      <th></th>\n    </tr>\n  </thead>\n  <tbody>\n    <tr>\n      <th></th>\n      <td>1.000000</td>\n      <td>-0.003226</td>\n      <td>-0.003282</td>\n      <td>-0.002929</td>\n      <td>-0.003190</td>\n      <td>-0.002741</td>\n      <td>-0.003237</td>\n      <td>-0.003216</td>\n      <td>-0.003253</td>\n      <td>-0.003235</td>\n      <td>...</td>\n      <td>-0.003205</td>\n      <td>0.010106</td>\n      <td>-0.003191</td>\n      <td>-0.003251</td>\n      <td>-0.003246</td>\n      <td>-0.003237</td>\n      <td>-0.003265</td>\n      <td>-0.003200</td>\n      <td>-0.003068</td>\n      <td>0.009124</td>\n    </tr>\n    <tr>\n      <th>Animal Farm &amp; 1984</th>\n      <td>-0.003226</td>\n      <td>1.000000</td>\n      <td>-0.003355</td>\n      <td>-0.002995</td>\n      <td>-0.003261</td>\n      <td>-0.002802</td>\n      <td>0.006308</td>\n      <td>-0.003288</td>\n      <td>-0.003325</td>\n      <td>-0.003308</td>\n      <td>...</td>\n      <td>0.005664</td>\n      <td>-0.003256</td>\n      <td>-0.003262</td>\n      <td>-0.003323</td>\n      <td>-0.003319</td>\n      <td>-0.003309</td>\n      <td>0.003703</td>\n      <td>-0.003272</td>\n      <td>-0.003136</td>\n      <td>0.003627</td>\n    </tr>\n    <tr>\n      <th>Carter Beats the Devil</th>\n      <td>-0.003282</td>\n      <td>-0.003355</td>\n      <td>1.000000</td>\n      <td>0.003519</td>\n      <td>0.006550</td>\n      <td>-0.002850</td>\n      <td>-0.003366</td>\n      <td>-0.003344</td>\n      <td>-0.003382</td>\n      <td>-0.003364</td>\n      <td>...</td>\n      <td>-0.003333</td>\n      <td>-0.003312</td>\n      <td>0.016673</td>\n      <td>-0.003380</td>\n      <td>0.005396</td>\n      <td>-0.003366</td>\n      <td>0.019977</td>\n      <td>-0.003328</td>\n      <td>-0.003190</td>\n      <td>-0.003414</td>\n    </tr>\n    <tr>\n      <th>The Fellowship of the Ring</th>\n      <td>-0.002929</td>\n      <td>-0.002995</td>\n      <td>0.003519</td>\n      <td>1.000000</td>\n      <td>-0.002961</td>\n      <td>-0.002544</td>\n      <td>-0.003005</td>\n      <td>0.018109</td>\n      <td>0.035126</td>\n      <td>0.013546</td>\n      <td>...</td>\n      <td>0.039413</td>\n      <td>0.011607</td>\n      <td>0.021682</td>\n      <td>0.006880</td>\n      <td>-0.003013</td>\n      <td>-0.003004</td>\n      <td>-0.003030</td>\n      <td>-0.002970</td>\n      <td>-0.002847</td>\n      <td>0.011347</td>\n    </tr>\n    <tr>\n      <th>めくらやなぎと、眠る女 [Mekurayanagi to, nemuru onna]</th>\n      <td>-0.003190</td>\n      <td>-0.003261</td>\n      <td>0.006550</td>\n      <td>-0.002961</td>\n      <td>1.000000</td>\n      <td>-0.002770</td>\n      <td>-0.003272</td>\n      <td>-0.003251</td>\n      <td>-0.003287</td>\n      <td>-0.003270</td>\n      <td>...</td>\n      <td>0.013121</td>\n      <td>-0.003219</td>\n      <td>-0.003225</td>\n      <td>-0.003286</td>\n      <td>-0.003281</td>\n      <td>-0.003272</td>\n      <td>-0.003300</td>\n      <td>-0.003234</td>\n      <td>-0.003101</td>\n      <td>0.006418</td>\n    </tr>\n  </tbody>\n</table>\n<p>5 rows × 794 columns</p>\n</div>"
     },
     "execution_count": 13,
     "metadata": {},
     "output_type": "execute_result"
    }
   ],
   "source": [
    "corr_mat = userRatings.corr(method=\"pearson\")\n",
    "corr_mat.head()"
   ],
   "metadata": {
    "collapsed": false,
    "pycharm": {
     "name": "#%%\n"
    }
   }
  },
  {
   "cell_type": "code",
   "execution_count": 14,
   "outputs": [],
   "source": [
    "def similar(book_name,rating):\n",
    "    similar_rating = corr_mat[book_name]*(rating-2.5)\n",
    "    similar_rating = similar_rating.sort_values(ascending=False)\n",
    "    return similar_rating\n"
   ],
   "metadata": {
    "collapsed": false,
    "pycharm": {
     "name": "#%%\n"
    }
   }
  },
  {
   "cell_type": "code",
   "execution_count": 15,
   "outputs": [],
   "source": [
    "user1 = [(\"Salamandastron\", 2), ('The Path Between the Seas: The Creation of the Panama Canal, 1870-1914', 5)\n",
    "         ,(\"Harry Potter and the Philosopher's Stone\",5)]"
   ],
   "metadata": {
    "collapsed": false,
    "pycharm": {
     "name": "#%%\n"
    }
   }
  },
  {
   "cell_type": "code",
   "execution_count": 16,
   "outputs": [],
   "source": [
    "#book_list = list(set(book_data.original_title))\n"
   ],
   "metadata": {
    "collapsed": false,
    "pycharm": {
     "name": "#%%\n"
    }
   }
  },
  {
   "cell_type": "code",
   "execution_count": 17,
   "outputs": [],
   "source": [
    "def recommended_book(book_list):\n",
    "    similar_books = pd.DataFrame()\n",
    "    for book, rating in book_list:\n",
    "        similar_books = similar_books.append(similar(book, rating), ignore_index=True)\n",
    "    print(\"You may like this:\\n\")\n",
    "    recommended = similar_books.sum().sort_values(ascending=False).head(10)\n",
    "    print(recommended)\n"
   ],
   "metadata": {
    "collapsed": false,
    "pycharm": {
     "name": "#%%\n"
    }
   }
  },
  {
   "cell_type": "markdown",
   "source": [
    "Results"
   ],
   "metadata": {
    "collapsed": false,
    "pycharm": {
     "name": "#%% md\n"
    }
   }
  },
  {
   "cell_type": "code",
   "execution_count": 18,
   "outputs": [
    {
     "name": "stdout",
     "output_type": "stream",
     "text": [
      "You may like this:\n",
      "\n",
      "Harry Potter and the Philosopher's Stone                                  2.493860\n",
      "The Path Between the Seas: The Creation of the Panama Canal, 1870-1914    2.485298\n",
      "Harry Potter and the Order of the Phoenix                                 1.290253\n",
      "Harry Potter Collection (Harry Potter, #1-6)                              1.273889\n",
      "Harry Potter and the Half-Blood Prince                                    1.262427\n",
      "The Lord of the Rings                                                     1.254171\n",
      "The Hitchhiker's Guide to the Galaxy                                      1.209532\n",
      "The Lord of the Rings: Weapons and Warfare                                1.182947\n",
      "The Ultimate Hitchhiker's Guide: Five Complete Novels and One Story       1.121585\n",
      "Heidi                                                                     1.018554\n",
      "dtype: float64\n"
     ]
    }
   ],
   "source": [
    "recommended_book(user1)"
   ],
   "metadata": {
    "collapsed": false,
    "pycharm": {
     "name": "#%%\n"
    }
   }
  },
  {
   "cell_type": "markdown",
   "source": [
    "User Based"
   ],
   "metadata": {
    "collapsed": false,
    "pycharm": {
     "name": "#%% md\n"
    }
   }
  },
  {
   "cell_type": "code",
   "execution_count": 19,
   "outputs": [],
   "source": [
    "from surprise import Reader, Dataset, SVD\n",
    "from surprise.model_selection import cross_validate"
   ],
   "metadata": {
    "collapsed": false,
    "pycharm": {
     "name": "#%%\n"
    }
   }
  },
  {
   "cell_type": "code",
   "execution_count": 22,
   "outputs": [],
   "source": [
    "reader = Reader()\n",
    "data = Dataset.load_from_df(ratings, reader)"
   ],
   "metadata": {
    "collapsed": false,
    "pycharm": {
     "name": "#%%\n"
    }
   }
  },
  {
   "cell_type": "code",
   "execution_count": 23,
   "outputs": [
    {
     "data": {
      "text/plain": "{'test_rmse': array([0.84132659, 0.84367823, 0.84363525, 0.84100327, 0.84631514]),\n 'test_mae': array([0.65858777, 0.66009651, 0.65973387, 0.65727128, 0.66116381]),\n 'fit_time': (42.09299564361572,\n  44.21999645233154,\n  42.43101167678833,\n  43.80900025367737,\n  43.332008361816406),\n 'test_time': (1.9389960765838623,\n  1.8910295963287354,\n  1.9169912338256836,\n  1.831005334854126,\n  2.0189895629882812)}"
     },
     "execution_count": 23,
     "metadata": {},
     "output_type": "execute_result"
    }
   ],
   "source": [
    "svd = SVD()\n",
    "cross_validate(svd, data, measures=['RMSE', 'MAE'])"
   ],
   "metadata": {
    "collapsed": false,
    "pycharm": {
     "name": "#%%\n"
    }
   }
  },
  {
   "cell_type": "code",
   "execution_count": 24,
   "outputs": [],
   "source": [
    "trainset = data.build_full_trainset()\n",
    "svd.fit(trainset);"
   ],
   "metadata": {
    "collapsed": false,
    "pycharm": {
     "name": "#%%\n"
    }
   }
  },
  {
   "cell_type": "code",
   "execution_count": 29,
   "outputs": [
    {
     "data": {
      "text/plain": "       book_id                                     original_title  user_id  \\\n9953      4473                            A Prayer for Owen Meany       35   \n18061     1005                                Think and Grow Rich       35   \n35132      249                                   Tropic of Cancer       35   \n41008     4898  Blue Ocean Strategy: How to Create Uncontested...       35   \n62307      304                                     Daniel Deronda       35   \n68229      291                                   الأجنحة المتكسرة       35   \n75281      621  The Automatic Millionaire: A Powerful One-Step...       35   \n78921      386      Another Bullshit Night in Suck City: A Memoir       35   \n\n       rating  \n9953        3  \n18061       3  \n35132       4  \n41008       4  \n62307       3  \n68229       3  \n75281       3  \n78921       3  ",
      "text/html": "<div>\n<style scoped>\n    .dataframe tbody tr th:only-of-type {\n        vertical-align: middle;\n    }\n\n    .dataframe tbody tr th {\n        vertical-align: top;\n    }\n\n    .dataframe thead th {\n        text-align: right;\n    }\n</style>\n<table border=\"1\" class=\"dataframe\">\n  <thead>\n    <tr style=\"text-align: right;\">\n      <th></th>\n      <th>book_id</th>\n      <th>original_title</th>\n      <th>user_id</th>\n      <th>rating</th>\n    </tr>\n  </thead>\n  <tbody>\n    <tr>\n      <th>9953</th>\n      <td>4473</td>\n      <td>A Prayer for Owen Meany</td>\n      <td>35</td>\n      <td>3</td>\n    </tr>\n    <tr>\n      <th>18061</th>\n      <td>1005</td>\n      <td>Think and Grow Rich</td>\n      <td>35</td>\n      <td>3</td>\n    </tr>\n    <tr>\n      <th>35132</th>\n      <td>249</td>\n      <td>Tropic of Cancer</td>\n      <td>35</td>\n      <td>4</td>\n    </tr>\n    <tr>\n      <th>41008</th>\n      <td>4898</td>\n      <td>Blue Ocean Strategy: How to Create Uncontested...</td>\n      <td>35</td>\n      <td>4</td>\n    </tr>\n    <tr>\n      <th>62307</th>\n      <td>304</td>\n      <td>Daniel Deronda</td>\n      <td>35</td>\n      <td>3</td>\n    </tr>\n    <tr>\n      <th>68229</th>\n      <td>291</td>\n      <td>الأجنحة المتكسرة</td>\n      <td>35</td>\n      <td>3</td>\n    </tr>\n    <tr>\n      <th>75281</th>\n      <td>621</td>\n      <td>The Automatic Millionaire: A Powerful One-Step...</td>\n      <td>35</td>\n      <td>3</td>\n    </tr>\n    <tr>\n      <th>78921</th>\n      <td>386</td>\n      <td>Another Bullshit Night in Suck City: A Memoir</td>\n      <td>35</td>\n      <td>3</td>\n    </tr>\n  </tbody>\n</table>\n</div>"
     },
     "execution_count": 29,
     "metadata": {},
     "output_type": "execute_result"
    }
   ],
   "source": [
    "book_data[book_data['user_id'] == 35]"
   ],
   "metadata": {
    "collapsed": false,
    "pycharm": {
     "name": "#%%\n"
    }
   }
  },
  {
   "cell_type": "code",
   "execution_count": 30,
   "outputs": [
    {
     "data": {
      "text/plain": "Prediction(uid=35, iid=35132, r_ui=None, est=3.437421757369736, details={'was_impossible': False})"
     },
     "execution_count": 30,
     "metadata": {},
     "output_type": "execute_result"
    }
   ],
   "source": [
    "svd.predict(35, 35132)\n"
   ],
   "metadata": {
    "collapsed": false,
    "pycharm": {
     "name": "#%%\n"
    }
   }
  },
  {
   "cell_type": "markdown",
   "source": [
    "It works purely on the basis of an assigned book ID and tries to predict ratings based on how the other users have predicted the book.\n",
    "\n"
   ],
   "metadata": {
    "collapsed": false,
    "pycharm": {
     "name": "#%% md\n"
    }
   }
  }
 ],
 "metadata": {
  "kernelspec": {
   "name": "conda-env-anaconda3-tensorflow-py",
   "language": "python",
   "display_name": "Python [conda env:anaconda3-tensorflow]"
  },
  "language_info": {
   "codemirror_mode": {
    "name": "ipython",
    "version": 3
   },
   "file_extension": ".py",
   "mimetype": "text/x-python",
   "name": "python",
   "nbconvert_exporter": "python",
   "pygments_lexer": "ipython3",
   "version": "3.7.6"
  }
 },
 "nbformat": 4,
 "nbformat_minor": 4
}